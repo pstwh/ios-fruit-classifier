{
 "cells": [
  {
   "cell_type": "code",
   "execution_count": 11,
   "metadata": {},
   "outputs": [],
   "source": [
    "import keras\n",
    "from keras.models import load_model\n",
    "from keras.utils.generic_utils import CustomObjectScope\n",
    "\n",
    "import coremltools"
   ]
  },
  {
   "cell_type": "code",
   "execution_count": 12,
   "metadata": {},
   "outputs": [],
   "source": [
    "LABELFILE = 'models/fruit-v1-labels.txt'\n",
    "MODELFILE = 'models/fruit-v1.h5'"
   ]
  },
  {
   "cell_type": "code",
   "execution_count": 13,
   "metadata": {},
   "outputs": [
    {
     "name": "stdout",
     "output_type": "stream",
     "text": [
      "[INFO] loading class labels from label binarizer\n",
      "[INFO] class labels: ['Apple Braeburn', 'Apple Golden 1', 'Apple Golden 2', 'Apple Golden 3', 'Apple Granny Smith', 'Apple Red 1', 'Apple Red 2', 'Apple Red 3', 'Apple Red Delicious', 'Apple Red Yellow', 'Apricot', 'Avocado', 'Avocado ripe', 'Banana', 'Banana Red', 'Cactus fruit', 'Cantaloupe 1', 'Cantaloupe 2', 'Carambula', 'Cherry 1', 'Cherry 2', 'Cherry Rainier', 'Cherry Wax Black', 'Cherry Wax Red', 'Cherry Wax Yellow', 'Clementine', 'Cocos', 'Dates', 'Granadilla', 'Grapefruit Pink', 'Grapefruit White', 'Grape Pink', 'Grape White', 'Grape White 2', 'Guava', 'Huckleberry', 'Kaki', 'Kiwi', 'Kumquats', 'Lemon', 'Lemon Meyer', 'Limes', 'Lychee', 'Mandarine', 'Mango', 'Maracuja', 'Melon Piel de Sapo', 'Mulberry', 'Nectarine', 'Orange', 'Papaya', 'Passion Fruit', 'Peach', 'Peach Flat', 'Pear', 'Pear Abate', 'Pear Monster', 'Pear Williams', 'Pepino', 'Physalis', 'Physalis with Husk', 'Pineapple', 'Pineapple Mini', 'Pitahaya Red', 'Plum', 'Pomegranate', 'Quince', 'Rambutan', 'Raspberry', 'Salak', 'Strawberry', 'Strawberry Wedge', 'Tamarillo', 'Tangelo', 'Walnut']\n",
      "[INFO] loading model...\n"
     ]
    },
    {
     "name": "stderr",
     "output_type": "stream",
     "text": [
      "/home/nti14147326/.local/lib/python3.6/site-packages/keras/models.py:255: UserWarning: No training configuration found in save file: the model was *not* compiled. Compile it manually.\n",
      "  warnings.warn('No training configuration found in save file: '\n"
     ]
    }
   ],
   "source": [
    "print(\"[INFO] loading class labels from label binarizer\")\n",
    "lb = open(LABELFILE).read()\n",
    "class_labels = lb.split('\\n')[:-1]\n",
    "print(\"[INFO] class labels: {}\".format(class_labels)) \n",
    "print(\"[INFO] loading model...\")\n",
    "with CustomObjectScope({'relu6': keras.applications.mobilenet.relu6,'DepthwiseConv2D': keras.applications.mobilenet.DepthwiseConv2D}):\n",
    "    model = load_model(MODELFILE)"
   ]
  },
  {
   "cell_type": "code",
   "execution_count": 16,
   "metadata": {},
   "outputs": [
    {
     "name": "stdout",
     "output_type": "stream",
     "text": [
      "[INFO] converting model\n",
      "0 : input_1, <keras.engine.topology.InputLayer object at 0x7f09ff8ef710>\n",
      "1 : Conv1, <keras.layers.convolutional.Conv2D object at 0x7f09ff8ef780>\n",
      "2 : bn_Conv1, <keras.layers.normalization.BatchNormalization object at 0x7f09ff8efa58>\n",
      "3 : Conv1_relu, <keras.layers.core.Activation object at 0x7f09ff8ef7f0>\n",
      "4 : expanded_conv_depthwise, <keras.applications.mobilenet.DepthwiseConv2D object at 0x7f09ff8efb70>\n",
      "5 : expanded_conv_depthwise_BN, <keras.layers.normalization.BatchNormalization object at 0x7f09ff8efba8>\n",
      "6 : expanded_conv_depthwise_relu, <keras.layers.core.Activation object at 0x7f09ff8efbe0>\n",
      "7 : expanded_conv_project, <keras.layers.convolutional.Conv2D object at 0x7f09ff8efeb8>\n",
      "8 : expanded_conv_project_BN, <keras.layers.normalization.BatchNormalization object at 0x7f09ff8efef0>\n",
      "9 : block_1_expand, <keras.layers.convolutional.Conv2D object at 0x7f09ff8f61d0>\n",
      "10 : block_1_expand_BN, <keras.layers.normalization.BatchNormalization object at 0x7f09ff8f6320>\n",
      "11 : block_1_expand_relu, <keras.layers.core.Activation object at 0x7f09ff8f6470>\n",
      "12 : block_1_depthwise, <keras.applications.mobilenet.DepthwiseConv2D object at 0x7f09ff8f64a8>\n",
      "13 : block_1_depthwise_BN, <keras.layers.normalization.BatchNormalization object at 0x7f09ff8f6518>\n",
      "14 : block_1_depthwise_relu, <keras.layers.core.Activation object at 0x7f09ff8f67f0>\n",
      "15 : block_1_project, <keras.layers.convolutional.Conv2D object at 0x7f09ff8f6828>\n",
      "16 : block_1_project_BN, <keras.layers.normalization.BatchNormalization object at 0x7f09ff8f6978>\n",
      "17 : block_2_expand, <keras.layers.convolutional.Conv2D object at 0x7f09ff8f6ac8>\n",
      "18 : block_2_expand_BN, <keras.layers.normalization.BatchNormalization object at 0x7f09ff8f6c18>\n",
      "19 : block_2_expand_relu, <keras.layers.core.Activation object at 0x7f09ff8f6d68>\n",
      "20 : block_2_depthwise, <keras.applications.mobilenet.DepthwiseConv2D object at 0x7f09ff8f6da0>\n",
      "21 : block_2_depthwise_BN, <keras.layers.normalization.BatchNormalization object at 0x7f09ff8f6e10>\n",
      "22 : block_2_depthwise_relu, <keras.layers.core.Activation object at 0x7f09ff8eff98>\n",
      "23 : block_2_project, <keras.layers.convolutional.Conv2D object at 0x7f09ff8fb160>\n",
      "24 : block_2_project_BN, <keras.layers.normalization.BatchNormalization object at 0x7f09ff8fb2b0>\n",
      "25 : block_2_add, <keras.layers.merge.Add object at 0x7f09ff8fb400>\n",
      "26 : block_3_expand, <keras.layers.convolutional.Conv2D object at 0x7f09ff8fb438>\n",
      "27 : block_3_expand_BN, <keras.layers.normalization.BatchNormalization object at 0x7f09ff8fb588>\n",
      "28 : block_3_expand_relu, <keras.layers.core.Activation object at 0x7f09ff8fb6d8>\n",
      "29 : block_3_depthwise, <keras.applications.mobilenet.DepthwiseConv2D object at 0x7f09ff8fb710>\n",
      "30 : block_3_depthwise_BN, <keras.layers.normalization.BatchNormalization object at 0x7f09ff8fb780>\n",
      "31 : block_3_depthwise_relu, <keras.layers.core.Activation object at 0x7f09ff8fba58>\n",
      "32 : block_3_project, <keras.layers.convolutional.Conv2D object at 0x7f09ff8fba90>\n",
      "33 : block_3_project_BN, <keras.layers.normalization.BatchNormalization object at 0x7f09ff8fbbe0>\n",
      "34 : block_4_expand, <keras.layers.convolutional.Conv2D object at 0x7f09ff8fbd30>\n",
      "35 : block_4_expand_BN, <keras.layers.normalization.BatchNormalization object at 0x7f09ff8fbe80>\n",
      "36 : block_4_expand_relu, <keras.layers.core.Activation object at 0x7f09ff8f6f60>\n",
      "37 : block_4_depthwise, <keras.applications.mobilenet.DepthwiseConv2D object at 0x7f09ff903048>\n",
      "38 : block_4_depthwise_BN, <keras.layers.normalization.BatchNormalization object at 0x7f09ff9030b8>\n",
      "39 : block_4_depthwise_relu, <keras.layers.core.Activation object at 0x7f09ff903390>\n",
      "40 : block_4_project, <keras.layers.convolutional.Conv2D object at 0x7f09ff9033c8>\n",
      "41 : block_4_project_BN, <keras.layers.normalization.BatchNormalization object at 0x7f09ff903518>\n",
      "42 : block_4_add, <keras.layers.merge.Add object at 0x7f09ff903668>\n",
      "43 : block_5_expand, <keras.layers.convolutional.Conv2D object at 0x7f09ff9036a0>\n",
      "44 : block_5_expand_BN, <keras.layers.normalization.BatchNormalization object at 0x7f09ff9037f0>\n",
      "45 : block_5_expand_relu, <keras.layers.core.Activation object at 0x7f09ff903940>\n",
      "46 : block_5_depthwise, <keras.applications.mobilenet.DepthwiseConv2D object at 0x7f09ff903978>\n",
      "47 : block_5_depthwise_BN, <keras.layers.normalization.BatchNormalization object at 0x7f09ff9039e8>\n",
      "48 : block_5_depthwise_relu, <keras.layers.core.Activation object at 0x7f09ff903cc0>\n",
      "49 : block_5_project, <keras.layers.convolutional.Conv2D object at 0x7f09ff903cf8>\n",
      "50 : block_5_project_BN, <keras.layers.normalization.BatchNormalization object at 0x7f09ff903e48>\n",
      "51 : block_5_add, <keras.layers.merge.Add object at 0x7f09ff903f98>\n",
      "52 : block_6_expand, <keras.layers.convolutional.Conv2D object at 0x7f09ff8fbfd0>\n",
      "53 : block_6_expand_BN, <keras.layers.normalization.BatchNormalization object at 0x7f09ff909160>\n",
      "54 : block_6_expand_relu, <keras.layers.core.Activation object at 0x7f09ff9092b0>\n",
      "55 : block_6_depthwise, <keras.applications.mobilenet.DepthwiseConv2D object at 0x7f09ff9092e8>\n",
      "56 : block_6_depthwise_BN, <keras.layers.normalization.BatchNormalization object at 0x7f09ff909358>\n",
      "57 : block_6_depthwise_relu, <keras.layers.core.Activation object at 0x7f09ff909630>\n",
      "58 : block_6_project, <keras.layers.convolutional.Conv2D object at 0x7f09ff909668>\n",
      "59 : block_6_project_BN, <keras.layers.normalization.BatchNormalization object at 0x7f09ff9097b8>\n",
      "60 : block_7_expand, <keras.layers.convolutional.Conv2D object at 0x7f09ff909908>\n",
      "61 : block_7_expand_BN, <keras.layers.normalization.BatchNormalization object at 0x7f09ff909a58>\n",
      "62 : block_7_expand_relu, <keras.layers.core.Activation object at 0x7f09ff909ba8>\n",
      "63 : block_7_depthwise, <keras.applications.mobilenet.DepthwiseConv2D object at 0x7f09ff909be0>\n",
      "64 : block_7_depthwise_BN, <keras.layers.normalization.BatchNormalization object at 0x7f09ff909c50>\n",
      "65 : block_7_depthwise_relu, <keras.layers.core.Activation object at 0x7f09ff909f28>\n",
      "66 : block_7_project, <keras.layers.convolutional.Conv2D object at 0x7f09ff909f60>\n",
      "67 : block_7_project_BN, <keras.layers.normalization.BatchNormalization object at 0x7f09ff903fd0>\n",
      "68 : block_7_add, <keras.layers.merge.Add object at 0x7f09ff910240>\n",
      "69 : block_8_expand, <keras.layers.convolutional.Conv2D object at 0x7f09ff910278>\n",
      "70 : block_8_expand_BN, <keras.layers.normalization.BatchNormalization object at 0x7f09ff9103c8>\n",
      "71 : block_8_expand_relu, <keras.layers.core.Activation object at 0x7f09ff910518>\n",
      "72 : block_8_depthwise, <keras.applications.mobilenet.DepthwiseConv2D object at 0x7f09ff910550>\n",
      "73 : block_8_depthwise_BN, <keras.layers.normalization.BatchNormalization object at 0x7f09ff9105c0>\n",
      "74 : block_8_depthwise_relu, <keras.layers.core.Activation object at 0x7f09ff910898>\n",
      "75 : block_8_project, <keras.layers.convolutional.Conv2D object at 0x7f09ff9108d0>\n",
      "76 : block_8_project_BN, <keras.layers.normalization.BatchNormalization object at 0x7f09ff910a20>\n",
      "77 : block_8_add, <keras.layers.merge.Add object at 0x7f09ff910b70>\n",
      "78 : block_9_expand, <keras.layers.convolutional.Conv2D object at 0x7f09ff910ba8>\n",
      "79 : block_9_expand_BN, <keras.layers.normalization.BatchNormalization object at 0x7f09ff910cf8>\n",
      "80 : block_9_expand_relu, <keras.layers.core.Activation object at 0x7f09ff910e48>\n",
      "81 : block_9_depthwise, <keras.applications.mobilenet.DepthwiseConv2D object at 0x7f09ff910e80>\n",
      "82 : block_9_depthwise_BN, <keras.layers.normalization.BatchNormalization object at 0x7f09ff910ef0>\n",
      "83 : block_9_depthwise_relu, <keras.layers.core.Activation object at 0x7f09ff909fd0>\n",
      "84 : block_9_project, <keras.layers.convolutional.Conv2D object at 0x7f09ff915240>\n",
      "85 : block_9_project_BN, <keras.layers.normalization.BatchNormalization object at 0x7f09ff915390>\n",
      "86 : block_9_add, <keras.layers.merge.Add object at 0x7f09ff9154e0>\n",
      "87 : block_10_expand, <keras.layers.convolutional.Conv2D object at 0x7f09ff915518>\n",
      "88 : block_10_expand_BN, <keras.layers.normalization.BatchNormalization object at 0x7f09ff915668>\n",
      "89 : block_10_expand_relu, <keras.layers.core.Activation object at 0x7f09ff9157b8>\n",
      "90 : block_10_depthwise, <keras.applications.mobilenet.DepthwiseConv2D object at 0x7f09ff9157f0>\n",
      "91 : block_10_depthwise_BN, <keras.layers.normalization.BatchNormalization object at 0x7f09ff915860>\n",
      "92 : block_10_depthwise_relu, <keras.layers.core.Activation object at 0x7f09ff915b38>\n",
      "93 : block_10_project, <keras.layers.convolutional.Conv2D object at 0x7f09ff915b70>\n",
      "94 : block_10_project_BN, <keras.layers.normalization.BatchNormalization object at 0x7f09ff915cc0>\n",
      "95 : block_11_expand, <keras.layers.convolutional.Conv2D object at 0x7f09ff915e10>\n",
      "96 : block_11_expand_BN, <keras.layers.normalization.BatchNormalization object at 0x7f09ff915f60>\n",
      "97 : block_11_expand_relu, <keras.layers.core.Activation object at 0x7f09ff910fd0>\n",
      "98 : block_11_depthwise, <keras.applications.mobilenet.DepthwiseConv2D object at 0x7f09ff91c128>\n",
      "99 : block_11_depthwise_BN, <keras.layers.normalization.BatchNormalization object at 0x7f09ff91c198>\n",
      "100 : block_11_depthwise_relu, <keras.layers.core.Activation object at 0x7f09ff91c470>\n",
      "101 : block_11_project, <keras.layers.convolutional.Conv2D object at 0x7f09ff91c4a8>\n",
      "102 : block_11_project_BN, <keras.layers.normalization.BatchNormalization object at 0x7f09ff91c5f8>\n",
      "103 : block_11_add, <keras.layers.merge.Add object at 0x7f09ff91c748>\n",
      "104 : block_12_expand, <keras.layers.convolutional.Conv2D object at 0x7f09ff91c780>\n"
     ]
    },
    {
     "name": "stdout",
     "output_type": "stream",
     "text": [
      "105 : block_12_expand_BN, <keras.layers.normalization.BatchNormalization object at 0x7f09ff91c8d0>\n",
      "106 : block_12_expand_relu, <keras.layers.core.Activation object at 0x7f09ff91ca20>\n",
      "107 : block_12_depthwise, <keras.applications.mobilenet.DepthwiseConv2D object at 0x7f09ff91ca58>\n",
      "108 : block_12_depthwise_BN, <keras.layers.normalization.BatchNormalization object at 0x7f09ff91cac8>\n",
      "109 : block_12_depthwise_relu, <keras.layers.core.Activation object at 0x7f09ff91cda0>\n",
      "110 : block_12_project, <keras.layers.convolutional.Conv2D object at 0x7f09ff91cdd8>\n",
      "111 : block_12_project_BN, <keras.layers.normalization.BatchNormalization object at 0x7f09ff91cf28>\n",
      "112 : block_12_add, <keras.layers.merge.Add object at 0x7f09ff915fd0>\n",
      "113 : block_13_expand, <keras.layers.convolutional.Conv2D object at 0x7f09ff9250f0>\n",
      "114 : block_13_expand_BN, <keras.layers.normalization.BatchNormalization object at 0x7f09ff925240>\n",
      "115 : block_13_expand_relu, <keras.layers.core.Activation object at 0x7f09ff925390>\n",
      "116 : block_13_depthwise, <keras.applications.mobilenet.DepthwiseConv2D object at 0x7f09ff9253c8>\n",
      "117 : block_13_depthwise_BN, <keras.layers.normalization.BatchNormalization object at 0x7f09ff925438>\n",
      "118 : block_13_depthwise_relu, <keras.layers.core.Activation object at 0x7f09ff925710>\n",
      "119 : block_13_project, <keras.layers.convolutional.Conv2D object at 0x7f09ff925748>\n",
      "120 : block_13_project_BN, <keras.layers.normalization.BatchNormalization object at 0x7f09ff925898>\n",
      "121 : block_14_expand, <keras.layers.convolutional.Conv2D object at 0x7f09ff9259e8>\n",
      "122 : block_14_expand_BN, <keras.layers.normalization.BatchNormalization object at 0x7f09ff925b38>\n",
      "123 : block_14_expand_relu, <keras.layers.core.Activation object at 0x7f09ff925c88>\n",
      "124 : block_14_depthwise, <keras.applications.mobilenet.DepthwiseConv2D object at 0x7f09ff925cc0>\n",
      "125 : block_14_depthwise_BN, <keras.layers.normalization.BatchNormalization object at 0x7f09ff925d30>\n",
      "126 : block_14_depthwise_relu, <keras.layers.core.Activation object at 0x7f09ff91cfd0>\n",
      "127 : block_14_project, <keras.layers.convolutional.Conv2D object at 0x7f09fedc1080>\n",
      "128 : block_14_project_BN, <keras.layers.normalization.BatchNormalization object at 0x7f09fedc11d0>\n",
      "129 : block_14_add, <keras.layers.merge.Add object at 0x7f09fedc1320>\n",
      "130 : block_15_expand, <keras.layers.convolutional.Conv2D object at 0x7f09fedc1358>\n",
      "131 : block_15_expand_BN, <keras.layers.normalization.BatchNormalization object at 0x7f09fedc14a8>\n",
      "132 : block_15_expand_relu, <keras.layers.core.Activation object at 0x7f09fedc15f8>\n",
      "133 : block_15_depthwise, <keras.applications.mobilenet.DepthwiseConv2D object at 0x7f09fedc1630>\n",
      "134 : block_15_depthwise_BN, <keras.layers.normalization.BatchNormalization object at 0x7f09fedc16a0>\n",
      "135 : block_15_depthwise_relu, <keras.layers.core.Activation object at 0x7f09fedc1978>\n",
      "136 : block_15_project, <keras.layers.convolutional.Conv2D object at 0x7f09fedc19b0>\n",
      "137 : block_15_project_BN, <keras.layers.normalization.BatchNormalization object at 0x7f09fedc1b00>\n",
      "138 : block_15_add, <keras.layers.merge.Add object at 0x7f09fedc1c50>\n",
      "139 : block_16_expand, <keras.layers.convolutional.Conv2D object at 0x7f09fedc1c88>\n",
      "140 : block_16_expand_BN, <keras.layers.normalization.BatchNormalization object at 0x7f09fedc1dd8>\n",
      "141 : block_16_expand_relu, <keras.layers.core.Activation object at 0x7f09fedc1f28>\n",
      "142 : block_16_depthwise, <keras.applications.mobilenet.DepthwiseConv2D object at 0x7f09fedc1f60>\n",
      "143 : block_16_depthwise_BN, <keras.layers.normalization.BatchNormalization object at 0x7f09ff925fd0>\n",
      "144 : block_16_depthwise_relu, <keras.layers.core.Activation object at 0x7f09fedc92e8>\n",
      "145 : block_16_project, <keras.layers.convolutional.Conv2D object at 0x7f09fedc9320>\n",
      "146 : block_16_project_BN, <keras.layers.normalization.BatchNormalization object at 0x7f09fedc9470>\n",
      "147 : Conv_1, <keras.layers.convolutional.Conv2D object at 0x7f09fedc95c0>\n",
      "148 : Conv_1_bn, <keras.layers.normalization.BatchNormalization object at 0x7f09fedc9710>\n",
      "149 : out_relu, <keras.layers.core.Activation object at 0x7f09fedc9860>\n",
      "150 : global_average_pooling2d_1, <keras.layers.pooling.GlobalAveragePooling2D object at 0x7f09fedc9898>\n",
      "151 : dense_1, <keras.layers.core.Dense object at 0x7f09fedc9908>\n",
      "152 : dense_1__activation__, <keras.layers.core.Activation object at 0x7f09c4b23ac8>\n",
      "153 : dense_2, <keras.layers.core.Dense object at 0x7f09fedc9a58>\n",
      "154 : dense_2__activation__, <keras.layers.core.Activation object at 0x7f09c4b23b00>\n"
     ]
    }
   ],
   "source": [
    "print(\"[INFO] converting model\")\n",
    "coreml_model = coremltools.converters.keras.convert(model,\n",
    "    image_scale=1/255.0,\n",
    "    class_labels=class_labels,\n",
    "    is_bgr=True)"
   ]
  },
  {
   "cell_type": "code",
   "execution_count": 18,
   "metadata": {},
   "outputs": [
    {
     "name": "stdout",
     "output_type": "stream",
     "text": [
      "[INFO] saving model as models/fruit-v1.mlmodel\n"
     ]
    }
   ],
   "source": [
    "output = MODELFILE.rsplit(\".\", 1)[0] + \".mlmodel\"\n",
    "print(\"[INFO] saving model as {}\".format(output))\n",
    "coreml_model.save(output)"
   ]
  },
  {
   "cell_type": "code",
   "execution_count": null,
   "metadata": {},
   "outputs": [],
   "source": []
  }
 ],
 "metadata": {
  "kernelspec": {
   "display_name": "Python 3",
   "language": "python",
   "name": "python3"
  },
  "language_info": {
   "codemirror_mode": {
    "name": "ipython",
    "version": 3
   },
   "file_extension": ".py",
   "mimetype": "text/x-python",
   "name": "python",
   "nbconvert_exporter": "python",
   "pygments_lexer": "ipython3",
   "version": "3.6.5"
  }
 },
 "nbformat": 4,
 "nbformat_minor": 2
}
